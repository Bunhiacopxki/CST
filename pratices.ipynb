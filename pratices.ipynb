{
 "cells": [
  {
   "cell_type": "markdown",
   "id": "d3e192b2",
   "metadata": {},
   "source": [
    "#### **Problem 9: Can you write out the chain rule for the case where $u = f(x, y, z)$, where $x = x(a, b)$, $y = y(a, b)$, and $z = z(a, b)$**\n",
    "\n",
    "According to the **multivariable chain rule**:\n",
    "\n",
    "- Partial derivative of $u$ with respect to $a$:\n",
    "  \n",
    "  $$\n",
    "  \\frac{\\partial u}{\\partial a} = \\frac{\\partial f}{\\partial x} \\frac{\\partial x}{\\partial a} + \\frac{\\partial f}{\\partial y} \\frac{\\partial y}{\\partial a} + \\frac{\\partial f}{\\partial z} \\frac{\\partial z}{\\partial a}\n",
    "  $$\n",
    "\n",
    "- Partial derivative of $u$ with respect to $b$:\n",
    "\n",
    "  $$\n",
    "  \\frac{\\partial u}{\\partial b} = \\frac{\\partial f}{\\partial x} \\frac{\\partial x}{\\partial b} + \\frac{\\partial f}{\\partial y} \\frac{\\partial y}{\\partial b} + \\frac{\\partial f}{\\partial z} \\frac{\\partial z}{\\partial b}\n",
    "  $$\n",
    "\n",
    "#### **Problem 10: Given a differentiable and invertible function $f(x)$, compute the derivative of its inverse $f^{-1}(x)$. Use the identity $f^{-1}(f(x)) = x$ and conversely $f(f^{-1}(y)) = y$ to support your derivation.**\n",
    "\n",
    "We are given that:\n",
    "- $f$ is differentiable and invertible,\n",
    "- $f(f^{-1}(y)) = y$ and $f^{-1}(f(x)) = x$.\n",
    "\n",
    "To compute the derivative of $f^{-1}(x)$, start from the identity:\n",
    "\n",
    "$$\n",
    "f(f^{-1}(x)) = x\n",
    "$$\n",
    "\n",
    "Differentiate both sides with respect to $x$:\n",
    "\n",
    "$$\n",
    "\\frac{d}{dx} \\left[ f(f^{-1}(x)) \\right] = \\frac{d}{dx}(x)\n",
    "$$\n",
    "\n",
    "Apply the chain rule:\n",
    "\n",
    "$$\n",
    "f'(f^{-1}(x)) \\cdot (f^{-1})'(x) = 1\n",
    "$$\n",
    "\n",
    "Solve for $(f^{-1})'(x)$:\n",
    "\n",
    "$$\n",
    "(f^{-1})'(x) = \\frac{1}{f'(f^{-1}(x))}\n",
    "$$\n"
   ]
  }
 ],
 "metadata": {
  "language_info": {
   "name": "python"
  }
 },
 "nbformat": 4,
 "nbformat_minor": 5
}
