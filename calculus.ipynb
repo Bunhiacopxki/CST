{
  "cells": [
    {
      "cell_type": "markdown",
      "metadata": {},
      "source": [
        "## 2.4.1. Derivatives and Differentiation"
      ]
    },
    {
      "cell_type": "markdown",
      "metadata": {},
      "source": [
        "#### Problem Statement\n",
        "\n",
        "In science, engineering and beyond, we are often faced with functions that describe how one quantity depends on another—distance as a function of time, concentration as a function of volume, cost as a function of units produced, and so on.  The **derivative** of a function provides a precise way to measure the **instantaneous rate of change** of that quantity: it tells us, at any given point, how fast the output is increasing or decreasing with respect to its input.\n",
        "\n",
        "For example, if $s(t)$ denotes the position of a car at time $t$, then the derivative $s'(t)$ is the car’s **velocity**.  If $P(t)$ models the size of a bacterial population, then $P'(t)$ gives the **growth rate**, which might accelerate or slow over time depending on nutrients or competition.  In economics, if $R(q)$ is the revenue from selling $q$ units of a product, then the derivative $R'(q)$ is the **marginal revenue**, the additional income earned by selling one more unit.\n",
        "\n",
        "Derivatives also appear in many less obvious contexts:\n",
        "\n",
        "- **Chemical kinetics**: if $C(v)$ describes the concentration of a reactant as a function of volume $v$, then $dC/dv$ measures how dilution changes concentration.  \n",
        "- **Computer networks**: if $T(t)$ is the cumulative data transferred by time $t$, then $T'(t)$ is the **throughput** or instantaneous data rate.  \n",
        "- **Geometry and graphics**: the slope of a curve $y=f(x)$ at a point, given by $f'(x)$, defines the direction of its tangent line and underlies algorithms for rendering smooth shapes.\n",
        "\n",
        "Because so many practical problems reduce to “how fast is this changing?”, mastering the basic rules of differentiation—the constant, power, exponential, logarithm, sum, product and quotient rules, and so on—allows us to turn a wide variety of real‑world questions into straightforward mechanical calculations."
      ]
    },
    {
      "cell_type": "markdown",
      "metadata": {},
      "source": [
        "Put simply, a *derivative* is the rate of change in a function with respect to changes in its arguments. Derivatives can tell us how rapidly a loss function would increase or decrease were we to *increase* or *decrease* each parameter by an infinitesimally small amount. \n",
        "\n",
        "Formally, for functions $ f : \\mathbb{R} \\rightarrow \\mathbb{R} $, that map from scalars to scalars, the *derivative* of $ f $ at a point $ x $ is defined as\n",
        "\n",
        "$$\n",
        "f'(x) = \\lim_{h \\to 0} \\frac{f(x+h) - f(x)}{h}.                \n",
        "\\tag{2.4.1}\n",
        "$$\n",
        "\n",
        "\n"
      ]
    },
    {
      "cell_type": "markdown",
      "metadata": {},
      "source": [
        "This term on the right hand side is called a *limit* and it tells us what happens to the value of an expression as a specified variable approaches a particular value. This limit tells us what the ratio between a perturbation *h* and the change in the function value $f(x + h) - f(x) $ converges to as we shrink its size to zero.\n",
        "\n",
        "When $f'(x)$ exists, $f$ is said to be differentiable at $x$; and when $f'(x)$ exists for all $x$ on a set, e.g., the interval $[a, b]$, we say that $f$ is differentiable on this set. Not all functions are differentiable, including many that we wish to optimize, such as accuracy and the area under the receiving operating characteristic (AUC). However, because computing the derivative of the loss is a crucial step in nearly all algorithms for training deep neural networks, we often optimize a differentiable *surrogate* instead.\n",
        "\n",
        "We can interpret the derivative $f'(x)$ as the instantaneous rate of change of $f(x)$ with respect to $x$. Let’s develop some intuition with an example. Define $u = f(x) = 3x^2 - 4x$."
      ]
    },
    {
      "cell_type": "code",
      "execution_count": 1,
      "metadata": {},
      "outputs": [],
      "source": [
        "def f(x):\n",
        "    return 3 * x ** 2 - 4 * x"
      ]
    },
    {
      "cell_type": "markdown",
      "metadata": {},
      "source": [
        "Setting $x = 1$, we see that $\\frac{f(x+h) - f(x)}{h}$ approaches $2$ as $h$ approaches $0$. While this experiment lacks the rigor of a mathematical proof, we can quickly see that indeed $f'(1) = 2$."
      ]
    },
    {
      "cell_type": "code",
      "execution_count": 2,
      "metadata": {},
      "outputs": [
        {
          "name": "stdout",
          "output_type": "stream",
          "text": [
            "h=0.10000, numerical limit=2.30000\n",
            "h=0.01000, numerical limit=2.03000\n",
            "h=0.00100, numerical limit=2.00300\n",
            "h=0.00010, numerical limit=2.00030\n",
            "h=0.00001, numerical limit=2.00003\n"
          ]
        }
      ],
      "source": [
        "import numpy as np\n",
        "for h in 10.0**np.arange(-1, -6, -1):\n",
        "    print(f'h={h:.5f}, numerical limit={(f(1+h)-f(1))/h:.5f}')"
      ]
    },
    {
      "cell_type": "markdown",
      "metadata": {},
      "source": [
        "There are several equivalent notational conventions for derivatives. Given \\( y = f(x) \\), the following expressions are equivalent:\n",
        "$$\n",
        "f'(x) = y' = \\frac{dy}{dx} = \\frac{df}{dx} = \\frac{d}{dx} f(x) = Df(x) = D_x f(x),\n",
        "\\tag{2.4.2}\n",
        "$$\n",
        "where the symbols $\\frac{d}{dx}$ and  $D$  are *differentiation operators*.  \n",
        "Below, we present the derivatives of some common functions:\n",
        "\n"
      ]
    },
    {
      "cell_type": "markdown",
      "metadata": {},
      "source": [
        "#### 1. Constant Rule\n",
        "$$\n",
        "\\frac{d}{dx} C = 0 \\quad \\text{for any constant } C, \\tag{2.4.3} \n",
        "$$ \n",
        "**Prove:** \n",
        "By definition,\n",
        "$$\n",
        "\\frac{d}{dx} C = \\lim_{h\\to0}\\frac{C - C}{h}\n",
        "= \\lim_{h\\to0}\\frac{0}{h}\n",
        "= 0.\n",
        "$$\n",
        "Since the numerator is identically zero, the limit is zero.\n",
        "**Example.**  \n",
        "Let $f(x)=7$. Then $f'(x)=0.$"
      ]
    },
    {
      "cell_type": "code",
      "execution_count": 1,
      "metadata": {},
      "outputs": [
        {
          "data": {
            "text/latex": [
              "$\\displaystyle 0$"
            ],
            "text/plain": [
              "0"
            ]
          },
          "execution_count": 1,
          "metadata": {},
          "output_type": "execute_result"
        }
      ],
      "source": [
        "import sympy as sp\n",
        "\n",
        "x = sp.symbols('x')\n",
        "f = 7\n",
        "sp.diff(f, x)\n",
        "# → 0\n"
      ]
    },
    {
      "cell_type": "markdown",
      "metadata": {},
      "source": [
        "#### 2. Power Rule\n",
        "$$\n",
        "\\frac{d}{dx} x^n = nx^{n-1} \\quad \\text{for } n \\neq 0 \\tag{2.4.4}\n",
        "$$\n",
        "**Prove**:\n",
        "**a)** $n$ a positive integer\n",
        "\n",
        "Use the binomial expansion:\n",
        "$$\n",
        "(x+h)^n\n",
        "= \\sum_{k=0}^n \\binom nk x^{\\,n-k}h^k\n",
        "= x^n + n x^{\\,n-1}h + \\sum_{k=2}^n\\binom nk x^{\\,n-k}h^k.\n",
        "$$\n",
        "Then\n",
        "$$\n",
        "\\frac{(x+h)^n - x^n}{h}\n",
        "= n\\,x^{\\,n-1} + O(h),\n",
        "$$\n",
        "so taking $h\\to0$ gives\n",
        "$$\n",
        "\\frac{d}{dx}x^n = n\\,x^{\\,n-1}.\n",
        "$$\n",
        "\n",
        "**b)** $n$ a negative integer\n",
        "\n",
        "Write $n=-m$ with $m>0$. Then $x^n = 1/x^m$.  By the quotient (or chain) rule,\n",
        "$$\n",
        "\\frac{d}{dx}x^{-m}\n",
        "= -\\,x^{-m-1}\\,(m\\,x^{\\,m-1})\n",
        "= -m\\,x^{-(m+1)}\n",
        "= n\\,x^{\\,n-1}.\n",
        "$$\n",
        "**Example.**  \n",
        "Let $f(x)=x^5$. Then $f'(x)=5\\,x^4$"
      ]
    },
    {
      "cell_type": "code",
      "execution_count": 2,
      "metadata": {},
      "outputs": [
        {
          "data": {
            "text/latex": [
              "$\\displaystyle 5 x^{4}$"
            ],
            "text/plain": [
              "5*x**4"
            ]
          },
          "execution_count": 2,
          "metadata": {},
          "output_type": "execute_result"
        }
      ],
      "source": [
        "import sympy as sp\n",
        "\n",
        "x = sp.symbols('x')\n",
        "f = x**5\n",
        "sp.diff(f, x)\n",
        "# → 5*x**4\n"
      ]
    },
    {
      "cell_type": "markdown",
      "metadata": {},
      "source": [
        "#### 3. Exponential Rule\n",
        "$$\n",
        "\\frac{d}{dx} e^x = e^x \\tag{2.4.5}\n",
        "$$\n",
        "**Prove:**\n",
        "Via power series\n",
        "\n",
        "$$\n",
        "e^x = \\sum_{k=0}^\\infty \\frac{x^k}{k!}\n",
        "\\;\\implies\\;\n",
        "\\frac{d}{dx}e^x\n",
        "= \\sum_{k=1}^\\infty \\frac{k x^{k-1}}{k!}\n",
        "= \\sum_{j=0}^\\infty \\frac{x^j}{j!}\n",
        "= e^x.\n",
        "$$\n",
        "\n",
        "Via the limit definition of \\(e\\)\n",
        "\n",
        "$$\n",
        "\\frac{d}{dx}e^x\n",
        "=\\lim_{h\\to0}\\frac{e^{x+h}-e^x}{h}\n",
        "=e^x\\lim_{h\\to0}\\frac{e^h-1}{h}\n",
        "=e^x\\cdot1\n",
        "= e^x.\n",
        "$$\n",
        "\n",
        "**Example.**  \n",
        "Let $f(x)=e^x$. Then $f'(x)=e^x.$"
      ]
    },
    {
      "cell_type": "code",
      "execution_count": null,
      "metadata": {},
      "outputs": [],
      "source": [
        "import sympy as sp\n",
        "\n",
        "x = sp.symbols('x')\n",
        "f = sp.exp(x)\n",
        "sp.diff(f, x)\n",
        "# → exp(x)\n"
      ]
    },
    {
      "cell_type": "markdown",
      "metadata": {},
      "source": [
        "#### 4. Logarithm Rule\n",
        "$$\n",
        "\\frac{d}{dx} \\ln x = x^{-1} \\tag{2.4.6}\n",
        "$$\n",
        "**Prove**:\n",
        "Since $y = \\ln x$ is the inverse of $x = e^y$,\n",
        "$$\n",
        "1 = \\frac{d}{dx}(e^y)\n",
        "  = e^y\\frac{dy}{dx}\n",
        "  = x\\frac{dy}{dx}\n",
        "\\quad\\Longrightarrow\\quad\n",
        "\\frac{dy}{dx} = \\frac1x.\n",
        "$$\n",
        "Hence\n",
        "$$\n",
        "\\frac{d}{dx}\\ln x = \\frac1x.\n",
        "$$\n",
        "**Example.**  \n",
        "Let $f(x)=\\ln(x)$. Then $f'(x)=\\frac1x.$"
      ]
    },
    {
      "cell_type": "code",
      "execution_count": 3,
      "metadata": {},
      "outputs": [
        {
          "data": {
            "text/latex": [
              "$\\displaystyle \\frac{1}{x}$"
            ],
            "text/plain": [
              "1/x"
            ]
          },
          "execution_count": 3,
          "metadata": {},
          "output_type": "execute_result"
        }
      ],
      "source": [
        "import sympy as sp\n",
        "\n",
        "x = sp.symbols('x')\n",
        "f = sp.log(x)\n",
        "sp.diff(f, x)\n",
        "# → 1/x\n"
      ]
    },
    {
      "cell_type": "markdown",
      "metadata": {},
      "source": [
        "\n",
        "Functions composed from differentiable functions are often themselves differentiable.  \n",
        "The following rules come in handy for working with compositions of any differentiable functions $ f $ and $ g $, and constant $ C $:\n",
        "\n",
        "\n",
        "\n",
        "\n",
        "\n"
      ]
    },
    {
      "cell_type": "markdown",
      "metadata": {},
      "source": [
        "#### 1. Constant Multiple Rule\n",
        "$$\n",
        "\\frac{d}{dx} [Cf(x)] = C \\frac{d}{dx} f(x) \\quad \\tag{2.4.7}\n",
        "$$\n",
        "**Prove:**\n",
        "For any constant $C$:\n",
        "$$\n",
        "\\frac{d}{dx}\\bigl[C\\,f(x)\\bigr]\n",
        "=\\lim_{h\\to0}\\frac{C\\,f(x+h)-C\\,f(x)}{h}\n",
        "=\\lim_{h\\to0}\\frac{C\\bigl[f(x+h)-f(x)\\bigr]}{h}\n",
        "=C\\;\\lim_{h\\to0}\\frac{f(x+h)-f(x)}{h}\n",
        "=C\\,f'(x).\n",
        "$$\n",
        "**Example.**  \n",
        "Let $f(x)=5\\,x^3$.  Then by the power rule,  \n",
        "$$\n",
        "f'(x)=5\\cdot3\\,x^2 = 15\\,x^2.\n",
        "$$"
      ]
    },
    {
      "cell_type": "code",
      "execution_count": 4,
      "metadata": {},
      "outputs": [
        {
          "data": {
            "text/latex": [
              "$\\displaystyle 15 x^{2}$"
            ],
            "text/plain": [
              "15*x**2"
            ]
          },
          "execution_count": 4,
          "metadata": {},
          "output_type": "execute_result"
        }
      ],
      "source": [
        "import sympy as sp\n",
        "\n",
        "x = sp.symbols('x')\n",
        "f = 5*x**3\n",
        "sp.diff(f, x)\n",
        "# → 15*x**2\n"
      ]
    },
    {
      "cell_type": "markdown",
      "metadata": {},
      "source": [
        "#### 2. Sum Rule\n",
        "$$\n",
        "\\frac{d}{dx} [f(x) + g(x)] = \\frac{d}{dx} f(x) + \\frac{d}{dx} g(x) \\quad  \\tag{2.4.8}\n",
        "$$\n",
        "**Prove:**\n",
        "For any two functions $f,g$:\n",
        "$$\n",
        "\\frac{d}{dx}\\bigl[f(x)+g(x)\\bigr]\n",
        "=\\lim_{h\\to0}\\frac{[f(x+h)+g(x+h)]-[f(x)+g(x)]}{h}\n",
        "=\\lim_{h\\to0}\\frac{f(x+h)-f(x)}{h}\n",
        "  +\\lim_{h\\to0}\\frac{g(x+h)-g(x)}{h}\n",
        "=f'(x)+g'(x).\n",
        "$$\n",
        "**Example.**  \n",
        "Let $f(x)=x^2 + 3x$.  Then $f'(x) = 2x + 3.$\n"
      ]
    },
    {
      "cell_type": "code",
      "execution_count": null,
      "metadata": {},
      "outputs": [],
      "source": [
        "import sympy as sp\n",
        "\n",
        "x = sp.symbols('x')\n",
        "f = x**2 + 3*x\n",
        "sp.diff(f, x)\n",
        "# → 2*x + 3\n"
      ]
    },
    {
      "cell_type": "markdown",
      "metadata": {},
      "source": [
        "#### 3. Product Rule\n",
        "$$\n",
        "\\frac{d}{dx} [f(x)g(x)] = f(x) \\frac{d}{dx} g(x) + g(x) \\frac{d}{dx} f(x) \\quad \\tag{2.4.9}\n",
        "$$\n",
        "**Prove:**\n",
        "$$\n",
        "\\begin{aligned}\n",
        "\\frac{d}{dx}\\bigl[f(x)g(x)\\bigr]\n",
        "&=\\lim_{h\\to0}\\frac{f(x+h)g(x+h)-f(x)g(x)}{h}\\\\\n",
        "&=\\lim_{h\\to0}\\frac{f(x+h)g(x+h)-f(x)g(x+h)+f(x)g(x+h)-f(x)g(x)}{h}\\\\\n",
        "&=\\lim_{h\\to0}\\frac{\\bigl[f(x+h)-f(x)\\bigr]\\,g(x+h)}{h}\n",
        "  +\\lim_{h\\to0}\\frac{f(x)\\,\\bigl[g(x+h)-g(x)\\bigr]}{h}\\\\\n",
        "&=\\Bigl(\\lim_{h\\to0}\\frac{f(x+h)-f(x)}{h}\\Bigr)\\,g(x)\n",
        "  +f(x)\\,\\Bigl(\\lim_{h\\to0}\\frac{g(x+h)-g(x)}{h}\\Bigr)\\\\\n",
        "&=f'(x)\\,g(x)+f(x)\\,g'(x).\n",
        "\\end{aligned}\n",
        "$$\n",
        "**Example.**  \n",
        "Let $h(x)=x^2\\sin x$.  Then $h'(x)=x^2\\cos x + 2x\\sin x.$"
      ]
    },
    {
      "cell_type": "code",
      "execution_count": 5,
      "metadata": {},
      "outputs": [
        {
          "data": {
            "text/latex": [
              "$\\displaystyle x^{2} \\cos{\\left(x \\right)} + 2 x \\sin{\\left(x \\right)}$"
            ],
            "text/plain": [
              "x**2*cos(x) + 2*x*sin(x)"
            ]
          },
          "execution_count": 5,
          "metadata": {},
          "output_type": "execute_result"
        }
      ],
      "source": [
        "import sympy as sp\n",
        "\n",
        "x = sp.symbols('x')\n",
        "h = x**2 * sp.sin(x)\n",
        "sp.diff(h, x)\n",
        "# → x**2*cos(x) + 2*x*sin(x)\n"
      ]
    },
    {
      "cell_type": "markdown",
      "metadata": {},
      "source": [
        "#### 4. Quotient Rule\n",
        "$$\n",
        "\\frac{d}{dx} \\left( \\frac{f(x)}{g(x)} \\right) = \\frac{g(x) \\frac{d}{dx} f(x) - f(x) \\frac{d}{dx} g(x)}{g^2(x)} \\quad \\tag{2.4.10}\n",
        "$$\n",
        "**Prove:**\n",
        "Assume $g(x)\\neq0$.  Write\n",
        "$$\n",
        "\\frac{f(x)}{g(x)} = f(x)\\,\\bigl[g(x)\\bigr]^{-1}.\n",
        "$$\n",
        "Then by the product rule and the chain rule (derivative of $u^{-1}$ is $-u^{-2}u'$):\n",
        "$$\n",
        "\\frac{d}{dx}\\frac{f}{g}\n",
        "=\\frac{d}{dx}\\bigl(f\\cdot g^{-1}\\bigr)\n",
        "=f'\\,g^{-1}+f\\;\\bigl(-g^{-2}g'\\bigr)\n",
        "=\\frac{f'}{g}-\\frac{f\\,g'}{g^2}\n",
        "=\\frac{g\\,f' - f\\,g'}{g^2}.\n",
        "$$\n",
        "\n",
        "**Example.**  \n",
        "Let $q(x)=\\frac{x^2}{1+x}$.  Then  \n",
        "$$\n",
        "q'(x)\n",
        "= \\frac{(1+x)\\cdot2x - x^2\\cdot1}{(1+x)^2}\n",
        "= \\frac{2x+2x^2 - x^2}{(1+x)^2}\n",
        "= \\frac{x(2+x)}{(1+x)^2}.\n",
        "$$"
      ]
    },
    {
      "cell_type": "code",
      "execution_count": 6,
      "metadata": {},
      "outputs": [
        {
          "data": {
            "text/latex": [
              "$\\displaystyle - \\frac{x^{2}}{\\left(x + 1\\right)^{2}} + \\frac{2 x}{x + 1}$"
            ],
            "text/plain": [
              "-x**2/(x + 1)**2 + 2*x/(x + 1)"
            ]
          },
          "execution_count": 6,
          "metadata": {},
          "output_type": "execute_result"
        }
      ],
      "source": [
        "import sympy as sp\n",
        "\n",
        "x = sp.symbols('x')\n",
        "q = x**2/(1+x)\n",
        "sp.diff(q, x)\n",
        "# → x*(x + 2)/(x + 1)**2\n"
      ]
    },
    {
      "cell_type": "markdown",
      "metadata": {},
      "source": []
    }
  ],
  "metadata": {
    "colab": {
      "provenance": []
    },
    "kernelspec": {
      "display_name": "Python 3",
      "name": "python3"
    },
    "language_info": {
      "codemirror_mode": {
        "name": "ipython",
        "version": 3
      },
      "file_extension": ".py",
      "mimetype": "text/x-python",
      "name": "python",
      "nbconvert_exporter": "python",
      "pygments_lexer": "ipython3",
      "version": "3.12.0"
    }
  },
  "nbformat": 4,
  "nbformat_minor": 0
}
