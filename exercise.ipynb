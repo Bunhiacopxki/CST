{
 "cells": [
  {
   "cell_type": "markdown",
   "id": "fe5b3244",
   "metadata": {},
   "source": [
    "1. So far we took the rules for derivatives for granted. Using the definition and limits prove the properties for (i) $f(x) = c$, (ii) $f(x) = x^$n$, (iii) $f(x) = e^x$ and (iv) $f(x) = logx$. \n",
    "\n",
    "All of these use the definition\n",
    "$$\n",
    "f'(x) \\;=\\;\\lim_{h\\to0}\\frac{f(x+h)-f(x)}{h}.\n",
    "$$\n",
    "\n",
    "##### (i) Constant Rule, $f(x)=C$\n",
    "\n",
    "By definition,\n",
    "$$\n",
    "\\frac{d}{dx} C = \\lim_{h\\to0}\\frac{C - C}{h}\n",
    "= \\lim_{h\\to0}\\frac{0}{h}\n",
    "= 0.\n",
    "$$\n",
    "Since the numerator is identically zero, the limit is zero."
   ]
  },
  {
   "cell_type": "code",
   "execution_count": 1,
   "id": "3f7522dc",
   "metadata": {},
   "outputs": [
    {
     "data": {
      "text/latex": [
       "$\\displaystyle 0$"
      ],
      "text/plain": [
       "0"
      ]
     },
     "execution_count": 1,
     "metadata": {},
     "output_type": "execute_result"
    }
   ],
   "source": [
    "import sympy as sp\n",
    "\n",
    "x, C = sp.symbols('x C')\n",
    "f = C\n",
    "sp.diff(f, x)\n",
    "# → 0"
   ]
  },
  {
   "cell_type": "markdown",
   "id": "e8ab1af8",
   "metadata": {},
   "source": [
    "##### (ii) Power Rule $f(x) = x^$n$\n",
    "**a)** $n$ a positive integer\n",
    "\n",
    "Use the binomial expansion:\n",
    "$$\n",
    "(x+h)^n\n",
    "= \\sum_{k=0}^n \\binom nk x^{\\,n-k}h^k\n",
    "= x^n + n x^{\\,n-1}h + \\sum_{k=2}^n\\binom nk x^{\\,n-k}h^k.\n",
    "$$\n",
    "Then\n",
    "$$\n",
    "\\frac{(x+h)^n - x^n}{h}\n",
    "= n\\,x^{\\,n-1} + O(h),\n",
    "$$\n",
    "so taking $h\\to0$ gives\n",
    "$$\n",
    "\\frac{d}{dx}x^n = n\\,x^{\\,n-1}.\n",
    "$$\n",
    "\n",
    "**b)** $n$ a negative integer\n",
    "\n",
    "Write $n=-m$ with $m>0$. Then $x^n = 1/x^m$.  By the quotient (or chain) rule,\n",
    "$$\n",
    "\\frac{d}{dx}x^{-m}\n",
    "= -\\,x^{-m-1}\\,(m\\,x^{\\,m-1})\n",
    "= -m\\,x^{-(m+1)}\n",
    "= n\\,x^{\\,n-1}.\n",
    "$$"
   ]
  },
  {
   "cell_type": "code",
   "execution_count": 2,
   "id": "08186134",
   "metadata": {},
   "outputs": [
    {
     "data": {
      "text/latex": [
       "$\\displaystyle \\frac{n x^{n}}{x}$"
      ],
      "text/plain": [
       "n*x**n/x"
      ]
     },
     "execution_count": 2,
     "metadata": {},
     "output_type": "execute_result"
    }
   ],
   "source": [
    "x, n = sp.symbols('x n', integer=True, positive=True)\n",
    "f = x**n\n",
    "sp.diff(f, x)\n",
    "# → n*x**(n-1)\n"
   ]
  },
  {
   "cell_type": "markdown",
   "id": "ce543c31",
   "metadata": {},
   "source": [
    "##### (iii) Exponential Rule $f(x) = e^x$\n",
    "Via power series\n",
    "\n",
    "$$\n",
    "e^x = \\sum_{k=0}^\\infty \\frac{x^k}{k!}\n",
    "\\;\\implies\\;\n",
    "\\frac{d}{dx}e^x\n",
    "= \\sum_{k=1}^\\infty \\frac{k x^{k-1}}{k!}\n",
    "= \\sum_{j=0}^\\infty \\frac{x^j}{j!}\n",
    "= e^x.\n",
    "$$\n",
    "\n",
    "Via the limit definition of \\(e\\)\n",
    "\n",
    "$$\n",
    "\\frac{d}{dx}e^x\n",
    "=\\lim_{h\\to0}\\frac{e^{x+h}-e^x}{h}\n",
    "=e^x\\lim_{h\\to0}\\frac{e^h-1}{h}\n",
    "=e^x\\cdot1\n",
    "= e^x.\n",
    "$$"
   ]
  },
  {
   "cell_type": "code",
   "execution_count": 3,
   "id": "d9ccb81a",
   "metadata": {},
   "outputs": [
    {
     "data": {
      "text/latex": [
       "$\\displaystyle e^{x}$"
      ],
      "text/plain": [
       "exp(x)"
      ]
     },
     "execution_count": 3,
     "metadata": {},
     "output_type": "execute_result"
    }
   ],
   "source": [
    "f = sp.exp(x)\n",
    "sp.diff(f, x)\n",
    "# → exp(x)\n"
   ]
  },
  {
   "cell_type": "markdown",
   "id": "e1da269c",
   "metadata": {},
   "source": [
    "##### (iv) Logarithm Rule $f(x) = logx$\n",
    "Since $y = \\ln x$ is the inverse of $x = e^y$,\n",
    "$$\n",
    "1 = \\frac{d}{dx}(e^y)\n",
    "  = e^y\\frac{dy}{dx}\n",
    "  = x\\frac{dy}{dx}\n",
    "\\quad\\Longrightarrow\\quad\n",
    "\\frac{dy}{dx} = \\frac1x.\n",
    "$$\n",
    "Hence\n",
    "$$\n",
    "\\frac{d}{dx}\\ln x = \\frac1x.\n",
    "$$"
   ]
  },
  {
   "cell_type": "code",
   "execution_count": 4,
   "id": "75487a7f",
   "metadata": {},
   "outputs": [
    {
     "data": {
      "text/latex": [
       "$\\displaystyle \\frac{1}{x}$"
      ],
      "text/plain": [
       "1/x"
      ]
     },
     "execution_count": 4,
     "metadata": {},
     "output_type": "execute_result"
    }
   ],
   "source": [
    "f = sp.log(x)\n",
    "sp.diff(f, x)\n",
    "# → 1/x\n"
   ]
  },
  {
   "cell_type": "markdown",
   "id": "f9d3148d",
   "metadata": {},
   "source": [
    "2. In the same vein, prove the product, sum, and quotient rule from first principles.\n",
    "##### Product Rule\n",
    "$$\n",
    "\\frac{d}{dx} [f(x)g(x)] = f(x) \\frac{d}{dx} g(x) + g(x) \\frac{d}{dx} f(x) \\quad \\text{Product rule}\n",
    "$$\n",
    "**Prove:**\n",
    "$$\n",
    "\\begin{aligned}\n",
    "\\frac{d}{dx}\\bigl[f(x)g(x)\\bigr]\n",
    "&=\\lim_{h\\to0}\\frac{f(x+h)g(x+h)-f(x)g(x)}{h}\\\\\n",
    "&=\\lim_{h\\to0}\\frac{f(x+h)g(x+h)-f(x)g(x+h)+f(x)g(x+h)-f(x)g(x)}{h}\\\\\n",
    "&=\\lim_{h\\to0}\\frac{\\bigl[f(x+h)-f(x)\\bigr]\\,g(x+h)}{h}\n",
    "  +\\lim_{h\\to0}\\frac{f(x)\\,\\bigl[g(x+h)-g(x)\\bigr]}{h}\\\\\n",
    "&=\\Bigl(\\lim_{h\\to0}\\frac{f(x+h)-f(x)}{h}\\Bigr)\\,g(x)\n",
    "  +f(x)\\,\\Bigl(\\lim_{h\\to0}\\frac{g(x+h)-g(x)}{h}\\Bigr)\\\\\n",
    "&=f'(x)\\,g(x)+f(x)\\,g'(x).\n",
    "\\end{aligned}\n",
    "$$\n"
   ]
  },
  {
   "cell_type": "code",
   "execution_count": 5,
   "id": "32b40b2c",
   "metadata": {},
   "outputs": [
    {
     "data": {
      "text/latex": [
       "$\\displaystyle x^{2} \\cos{\\left(x \\right)} + 2 x \\sin{\\left(x \\right)}$"
      ],
      "text/plain": [
       "x**2*cos(x) + 2*x*sin(x)"
      ]
     },
     "execution_count": 5,
     "metadata": {},
     "output_type": "execute_result"
    }
   ],
   "source": [
    "h = x**2 * sp.sin(x)\n",
    "sp.diff(h, x)\n",
    "# → x**2*cos(x) + 2*x*sin(x)\n"
   ]
  },
  {
   "cell_type": "markdown",
   "id": "daee288e",
   "metadata": {},
   "source": [
    "##### Sum Rule\n",
    "$$\n",
    "\\frac{d}{dx} [f(x) + g(x)] = \\frac{d}{dx} f(x) + \\frac{d}{dx} g(x) \\quad \\text{Sum rule}\n",
    "$$\n",
    "**Prove:**\n",
    "For any two functions $f,g$:\n",
    "$$\n",
    "\\frac{d}{dx}\\bigl[f(x)+g(x)\\bigr]\n",
    "=\\lim_{h\\to0}\\frac{[f(x+h)+g(x+h)]-[f(x)+g(x)]}{h}\n",
    "=\\lim_{h\\to0}\\frac{f(x+h)-f(x)}{h}\n",
    "  +\\lim_{h\\to0}\\frac{g(x+h)-g(x)}{h}\n",
    "=f'(x)+g'(x).\n",
    "$$"
   ]
  },
  {
   "cell_type": "code",
   "execution_count": 6,
   "id": "686e9600",
   "metadata": {},
   "outputs": [
    {
     "data": {
      "text/latex": [
       "$\\displaystyle 3 x^{2} + e^{x}$"
      ],
      "text/plain": [
       "3*x**2 + exp(x)"
      ]
     },
     "execution_count": 6,
     "metadata": {},
     "output_type": "execute_result"
    }
   ],
   "source": [
    "f = x**3 + sp.exp(x)\n",
    "sp.diff(f, x)\n",
    "# → 3*x**2 + exp(x)\n"
   ]
  },
  {
   "cell_type": "markdown",
   "id": "db2d3d0f",
   "metadata": {},
   "source": [
    "##### Quotient Rule\n",
    "$$\n",
    "\\frac{d}{dx} \\left( \\frac{f(x)}{g(x)} \\right) = \\frac{g(x) \\frac{d}{dx} f(x) - f(x) \\frac{d}{dx} g(x)}{g^2(x)} \\quad \\text{Quotient rule}\n",
    "\\tag{2.4.4}\n",
    "$$\n",
    "**Prove:**\n",
    "Assume $g(x)\\neq0$.  Write\n",
    "$$\n",
    "\\frac{f(x)}{g(x)} = f(x)\\,\\bigl[g(x)\\bigr]^{-1}.\n",
    "$$\n",
    "Then by the product rule and the chain rule (derivative of $u^{-1}$ is $-u^{-2}u'$):\n",
    "$$\n",
    "\\frac{d}{dx}\\frac{f}{g}\n",
    "=\\frac{d}{dx}\\bigl(f\\cdot g^{-1}\\bigr)\n",
    "=f'\\,g^{-1}+f\\;\\bigl(-g^{-2}g'\\bigr)\n",
    "=\\frac{f'}{g}-\\frac{f\\,g'}{g^2}\n",
    "=\\frac{g\\,f' - f\\,g'}{g^2}.\n",
    "$$"
   ]
  },
  {
   "cell_type": "code",
   "execution_count": 7,
   "id": "fc96853d",
   "metadata": {},
   "outputs": [
    {
     "data": {
      "text/latex": [
       "$\\displaystyle - \\frac{x^{2}}{\\left(x + 1\\right)^{2}} + \\frac{2 x}{x + 1}$"
      ],
      "text/plain": [
       "-x**2/(x + 1)**2 + 2*x/(x + 1)"
      ]
     },
     "execution_count": 7,
     "metadata": {},
     "output_type": "execute_result"
    }
   ],
   "source": [
    "q = x**2/(1+x)\n",
    "sp.diff(q, x)\n",
    "# → x*(x + 2)/(x + 1)**2\n"
   ]
  },
  {
   "cell_type": "markdown",
   "id": "066c7af9",
   "metadata": {},
   "source": [
    "3. Prove that the constant multiple rule follows as a special case of the product rule.\n",
    "\n",
    "**Statement.** Show that for any constant $C$ and differentiable function $g(x)$,\n",
    "$$\n",
    "\\frac{d}{dx}\\bigl[C\\,g(x)\\bigr] \\;=\\; C\\,g'(x).\n",
    "$$\n",
    "\n",
    "**Proof.**  \n",
    "Treat $C$ as the constant function $f(x)=C$, so $f'(x)=0$.  By the product rule,\n",
    "$$\n",
    "\\frac{d}{dx}\\bigl[f(x)\\,g(x)\\bigr]\n",
    "= f'(x)\\,g(x) + f(x)\\,g'(x)\n",
    "= 0\\cdot g(x) + C\\cdot g'(x)\n",
    "= C\\,g'(x).\n",
    "$$\n",
    "Hence the constant multiple rule follows directly."
   ]
  },
  {
   "cell_type": "code",
   "execution_count": 8,
   "id": "097e5244",
   "metadata": {},
   "outputs": [
    {
     "data": {
      "text/latex": [
       "$\\displaystyle C \\cos{\\left(x \\right)}$"
      ],
      "text/plain": [
       "C*cos(x)"
      ]
     },
     "execution_count": 8,
     "metadata": {},
     "output_type": "execute_result"
    }
   ],
   "source": [
    "C, x = sp.symbols('C x')\n",
    "g = sp.sin(x)\n",
    "sp.diff(C*g, x)\n",
    "# → C*cos(x)\n"
   ]
  },
  {
   "cell_type": "markdown",
   "id": "451a272e",
   "metadata": {},
   "source": [
    "Exercises 4:\n",
    "\n",
    "Rational exponents are exponents of numbers that are expressed as rational numbers, that is, in $a^{\\frac{p}{q}}$, $a$ is the base and $\\frac{p}{q}$ is the rational exponent where $q$ ≠ 0. In rational exponents, the base must be a positive integer.\n",
    "\n",
    "Therefore in this situation: $x^x$ we got $x>0$\n",
    "\n",
    "Use the fact that:\n",
    "\n",
    "(1): $y=e^{ln(y)}$\n",
    "\n",
    "and \n",
    "\n",
    "(2): $\\ln(a^b)=b.ln(a)$  (2)\n",
    "\n",
    "to get\n",
    "\n",
    "$x^x$\n",
    "\n",
    "$=e^{ln(x^x)}$  (Use (1))\n",
    "\n",
    "$=e^{x.ln(x)}$   (Use (2))\n",
    "\n",
    "Then the derivative you want will be the derivative of this:\n",
    "\n",
    "$\\frac{d}{dx}(x^x)=\\frac{d}{dx}(e^{x.ln(x)})$\n",
    "\n",
    "Using the chain rule this derivative is then:\n",
    "\n",
    "$\\frac{d}{dx}(x^x)$\n",
    "\n",
    "$=\\frac{d}{dx}(e^{x.ln(x)})$\n",
    "\n",
    "$=e^{x.ln(x)}.(\\frac{d}{dx}(x.ln(x)))$\n",
    "\n",
    "$=e^{x.ln(x)}(1.ln(x)+x.\\frac{1}{x})$\n",
    "\n",
    "$=e^{x.ln(x)}(ln(x)+1)$\n",
    "\n",
    "Thus the final answer is $x^x(ln(x)+1)$"
   ]
  },
  {
   "cell_type": "markdown",
   "id": "256f6303",
   "metadata": {},
   "source": [
    "Exercises 5:\n",
    "\n",
    "Derivative is the rate of change in a function with respect to changes in its arguments.\n",
    "\n",
    "In this scenario, $f'(x) = 0$ for some $x$, it means that at that point, the rate of change in a function $f$ with respect to changes in its argument $x$ is zero. In other words, the function is neither increasing nor decreasing at that point.\n",
    "\n",
    "$f'(x) = 0$ for some $x$, is a local extremum (either a maximum or a minimum), where the slope of the tangent to the curve of the function $f$ at that point is horizontal.\n",
    "\n",
    "Example:\n",
    "\n",
    "For $f(x)=x^2$, the derivative is $f′(x)=2x$. Setting $f′(x)=0=2x$, we find that $x=0$, where at this point there is a local minimum, as the function changes from descending to ascending at this point.\n"
   ]
  },
  {
   "cell_type": "markdown",
   "id": "c424dbd8",
   "metadata": {},
   "source": [
    "Exercises 6:"
   ]
  },
  {
   "cell_type": "code",
   "execution_count": null,
   "id": "fde638b7",
   "metadata": {},
   "outputs": [],
   "source": [
    "ff = lambda x: x ** 3 - 1 / x\n",
    "x = np.arange(0, 3, 0.1)\n",
    "plot(x, [ff(x), 4 * x - 4], 'x', 'f(x)', legend=['f(x)', 'Tangent line (x=1)'])"
   ]
  },
  {
   "cell_type": "markdown",
   "id": "bcc71314",
   "metadata": {},
   "source": [
    "7.\n",
    "\n",
    "We have $f(\\mathbf x) = 3x_{1}^2 + 5e^{x_2}$, $\\mathbf x = (x_1, x_2)^{T}$\n",
    "\n",
    "Then\n",
    "- $\\partial_{x_1}f(\\mathbf x) = 6x_1$\n",
    "- $\\partial_{x_2}f(\\mathbf x) = 5e^{x_2}$\n",
    "\n",
    "According to 2.4.8, \n",
    "$$\n",
    "\\nabla_{\\mathbf x}f(\\mathbf x)\n",
    "=\n",
    "\\begin{bmatrix}\n",
    "\\partial_{x_1}f(\\mathbf x)\\\\\n",
    "\\partial_{x_2}f(\\mathbf x)\n",
    "\\end{bmatrix}\n",
    "=\n",
    "\\begin{bmatrix}\n",
    "6x_1 \\\\\n",
    "5e^{x_2}\n",
    "\\end{bmatrix}.\n",
    "$$\n",
    "\n",
    "8.\n",
    "\n",
    "We have $f(\\mathbf x) = \\|\\mathbf x\\|_{2} = \\sqrt {x_1^2 + x_2^2 + ... + x_n^2}$\n",
    "\n",
    "If $\\mathbf x \\neq \\mathbf 0$,\n",
    "\n",
    "$$\n",
    "\\nabla_{\\mathbf x}f(\\mathbf x)\n",
    "=\n",
    "\\begin{bmatrix}\n",
    "\\partial_{x_1}f(\\mathbf x)\\\\\n",
    "\\partial_{x_2}f(\\mathbf x)\\\\\n",
    "\\vdots\\\\\n",
    "\\partial_{x_n}f(\\mathbf x)\n",
    "\\end{bmatrix}\n",
    "=\n",
    "\\begin{bmatrix}\n",
    "\\frac{2x_1}{\\sqrt {x_1^2 + x_2^2 + ... + x_n^2}} \\\\\n",
    "\\frac{2x_2}{\\sqrt {x_1^2 + x_2^2 + ... + x_n^2}} \\\\\n",
    "\\vdots \\\\\n",
    "\\frac{2x_n}{\\sqrt {x_1^2 + x_2^2 + ... + x_n^2}}\n",
    "\\end{bmatrix}\n",
    "=\n",
    "\\frac{2}{\\sqrt {x_1^2 + x_2^2 + ... + x_n^2}}\n",
    "\\begin{bmatrix}\n",
    "x_1 \\\\\n",
    "x_2 \\\\\n",
    "\\vdots \\\\\n",
    "x_n\n",
    "\\end{bmatrix}\n",
    "= \\frac{2}{\\|\\mathbf x\\|_2}\\mathbf x\n",
    "$$\n",
    "\n",
    "If $\\mathbf x = \\mathbf 0$,\n",
    "\n",
    "$$\n",
    "\\frac{\\partial f}{\\partial x_i}\n",
    "=\n",
    "\\lim_{h \\to 0} \\frac{f(0,...,0,h,0,...,0)-f(\\mathbf 0)}{h}\n",
    "=\n",
    "\\lim_{h \\to 0} \\frac{\\|(0,...,0,h,0,...,0)\\|_2-0}{h}\n",
    "$$\n",
    "\n",
    "$$\n",
    "\\frac{\\partial f}{\\partial x_i}\n",
    "=\n",
    "\\lim_{h \\to 0} \\frac{\\sqrt {0^2+...0^2+h^2+0^2+...+0^2}}{h}\n",
    "=\n",
    "\\lim_{h \\to 0} \\frac{\\sqrt {h^2}}{h}\n",
    "=\n",
    "\\lim_{h \\to 0} \\frac{|h|}{h}\n",
    "$$\n",
    "\n",
    "Because\n",
    "$$\n",
    "\\lim_{h \\to 0^+} \\frac{|h|}{h}\n",
    "=\n",
    "1,\n",
    "\\lim_{h \\to 0^-} \\frac{|h|}{h}\n",
    "=\n",
    "-1\n",
    "$$,\n",
    "when $\\mathbf x = \\mathbf 0$, f is not differentiable."
   ]
  },
  {
   "cell_type": "markdown",
   "id": "bb64bda0",
   "metadata": {},
   "source": [
    "#### **Problem 9: Can you write out the chain rule for the case where $u = f(x, y, z)$, where $x = x(a, b)$, $y = y(a, b)$, and $z = z(a, b)$**\n",
    "\n",
    "According to the **multivariable chain rule**:\n",
    "\n",
    "- Partial derivative of $u$ with respect to $a$:\n",
    "  \n",
    "  $$\n",
    "  \\frac{\\partial u}{\\partial a} = \\frac{\\partial f}{\\partial x} \\frac{\\partial x}{\\partial a} + \\frac{\\partial f}{\\partial y} \\frac{\\partial y}{\\partial a} + \\frac{\\partial f}{\\partial z} \\frac{\\partial z}{\\partial a}\n",
    "  $$\n",
    "\n",
    "- Partial derivative of $u$ with respect to $b$:\n",
    "\n",
    "  $$\n",
    "  \\frac{\\partial u}{\\partial b} = \\frac{\\partial f}{\\partial x} \\frac{\\partial x}{\\partial b} + \\frac{\\partial f}{\\partial y} \\frac{\\partial y}{\\partial b} + \\frac{\\partial f}{\\partial z} \\frac{\\partial z}{\\partial b}\n",
    "  $$\n",
    "\n",
    "#### **Problem 10: Given a differentiable and invertible function $f(x)$, compute the derivative of its inverse $f^{-1}(x)$. Use the identity $f^{-1}(f(x)) = x$ and conversely $f(f^{-1}(y)) = y$ to support your derivation.**\n",
    "\n",
    "We are given that:\n",
    "- $f$ is differentiable and invertible,\n",
    "- $f(f^{-1}(y)) = y$ and $f^{-1}(f(x)) = x$.\n",
    "\n",
    "To compute the derivative of $f^{-1}(x)$, start from the identity:\n",
    "\n",
    "$$\n",
    "f(f^{-1}(x)) = x\n",
    "$$\n",
    "\n",
    "Differentiate both sides with respect to $x$:\n",
    "\n",
    "$$\n",
    "\\frac{d}{dx} \\left[ f(f^{-1}(x)) \\right] = \\frac{d}{dx}(x)\n",
    "$$\n",
    "\n",
    "Apply the chain rule:\n",
    "\n",
    "$$\n",
    "f'(f^{-1}(x)) \\cdot (f^{-1})'(x) = 1\n",
    "$$\n",
    "\n",
    "Solve for $(f^{-1})'(x)$:\n",
    "\n",
    "$$\n",
    "(f^{-1})'(x) = \\frac{1}{f'(f^{-1}(x))}\n",
    "$$\n"
   ]
  }
 ],
 "metadata": {
  "kernelspec": {
   "display_name": "Python 3",
   "language": "python",
   "name": "python3"
  },
  "language_info": {
   "codemirror_mode": {
    "name": "ipython",
    "version": 3
   },
   "file_extension": ".py",
   "mimetype": "text/x-python",
   "name": "python",
   "nbconvert_exporter": "python",
   "pygments_lexer": "ipython3",
   "version": "3.12.0"
  }
 },
 "nbformat": 4,
 "nbformat_minor": 5
}
