{
 "cells": [
  {
   "cell_type": "markdown",
   "id": "fe5b3244",
   "metadata": {},
   "source": [
    "1. So far we took the rules for derivatives for granted. Using the definition and limits prove the properties for (i) $f(x) = c$, (ii) $f(x) = x^$n$, (iii) $f(x) = e^x$ and (iv) $f(x) = logx$. \n",
    "\n",
    "All of these use the definition\n",
    "$$\n",
    "f'(x) \\;=\\;\\lim_{h\\to0}\\frac{f(x+h)-f(x)}{h}.\n",
    "$$\n",
    "\n",
    "##### (i) Constant Rule, $f(x)=C$\n",
    "\n",
    "By definition,\n",
    "$$\n",
    "\\frac{d}{dx} C = \\lim_{h\\to0}\\frac{C - C}{h}\n",
    "= \\lim_{h\\to0}\\frac{0}{h}\n",
    "= 0.\n",
    "$$\n",
    "Since the numerator is identically zero, the limit is zero."
   ]
  },
  {
   "cell_type": "code",
   "execution_count": 1,
   "id": "3f7522dc",
   "metadata": {},
   "outputs": [
    {
     "data": {
      "text/latex": [
       "$\\displaystyle 0$"
      ],
      "text/plain": [
       "0"
      ]
     },
     "execution_count": 1,
     "metadata": {},
     "output_type": "execute_result"
    }
   ],
   "source": [
    "import sympy as sp\n",
    "\n",
    "x, C = sp.symbols('x C')\n",
    "f = C\n",
    "sp.diff(f, x)\n",
    "# → 0"
   ]
  },
  {
   "cell_type": "markdown",
   "id": "e8ab1af8",
   "metadata": {},
   "source": [
    "##### (ii) Power Rule $f(x) = x^$n$\n",
    "**a)** $n$ a positive integer\n",
    "\n",
    "Use the binomial expansion:\n",
    "$$\n",
    "(x+h)^n\n",
    "= \\sum_{k=0}^n \\binom nk x^{\\,n-k}h^k\n",
    "= x^n + n x^{\\,n-1}h + \\sum_{k=2}^n\\binom nk x^{\\,n-k}h^k.\n",
    "$$\n",
    "Then\n",
    "$$\n",
    "\\frac{(x+h)^n - x^n}{h}\n",
    "= n\\,x^{\\,n-1} + O(h),\n",
    "$$\n",
    "so taking $h\\to0$ gives\n",
    "$$\n",
    "\\frac{d}{dx}x^n = n\\,x^{\\,n-1}.\n",
    "$$\n",
    "\n",
    "**b)** $n$ a negative integer\n",
    "\n",
    "Write $n=-m$ with $m>0$. Then $x^n = 1/x^m$.  By the quotient (or chain) rule,\n",
    "$$\n",
    "\\frac{d}{dx}x^{-m}\n",
    "= -\\,x^{-m-1}\\,(m\\,x^{\\,m-1})\n",
    "= -m\\,x^{-(m+1)}\n",
    "= n\\,x^{\\,n-1}.\n",
    "$$"
   ]
  },
  {
   "cell_type": "code",
   "execution_count": 2,
   "id": "08186134",
   "metadata": {},
   "outputs": [
    {
     "data": {
      "text/latex": [
       "$\\displaystyle \\frac{n x^{n}}{x}$"
      ],
      "text/plain": [
       "n*x**n/x"
      ]
     },
     "execution_count": 2,
     "metadata": {},
     "output_type": "execute_result"
    }
   ],
   "source": [
    "x, n = sp.symbols('x n', integer=True, positive=True)\n",
    "f = x**n\n",
    "sp.diff(f, x)\n",
    "# → n*x**(n-1)\n"
   ]
  },
  {
   "cell_type": "markdown",
   "id": "ce543c31",
   "metadata": {},
   "source": [
    "##### (iii) Exponential Rule $f(x) = e^x$\n",
    "Via power series\n",
    "\n",
    "$$\n",
    "e^x = \\sum_{k=0}^\\infty \\frac{x^k}{k!}\n",
    "\\;\\implies\\;\n",
    "\\frac{d}{dx}e^x\n",
    "= \\sum_{k=1}^\\infty \\frac{k x^{k-1}}{k!}\n",
    "= \\sum_{j=0}^\\infty \\frac{x^j}{j!}\n",
    "= e^x.\n",
    "$$\n",
    "\n",
    "Via the limit definition of \\(e\\)\n",
    "\n",
    "$$\n",
    "\\frac{d}{dx}e^x\n",
    "=\\lim_{h\\to0}\\frac{e^{x+h}-e^x}{h}\n",
    "=e^x\\lim_{h\\to0}\\frac{e^h-1}{h}\n",
    "=e^x\\cdot1\n",
    "= e^x.\n",
    "$$"
   ]
  },
  {
   "cell_type": "code",
   "execution_count": 3,
   "id": "d9ccb81a",
   "metadata": {},
   "outputs": [
    {
     "data": {
      "text/latex": [
       "$\\displaystyle e^{x}$"
      ],
      "text/plain": [
       "exp(x)"
      ]
     },
     "execution_count": 3,
     "metadata": {},
     "output_type": "execute_result"
    }
   ],
   "source": [
    "f = sp.exp(x)\n",
    "sp.diff(f, x)\n",
    "# → exp(x)\n"
   ]
  },
  {
   "cell_type": "markdown",
   "id": "e1da269c",
   "metadata": {},
   "source": [
    "##### (iv) Logarithm Rule $f(x) = logx$\n",
    "Since $y = \\ln x$ is the inverse of $x = e^y$,\n",
    "$$\n",
    "1 = \\frac{d}{dx}(e^y)\n",
    "  = e^y\\frac{dy}{dx}\n",
    "  = x\\frac{dy}{dx}\n",
    "\\quad\\Longrightarrow\\quad\n",
    "\\frac{dy}{dx} = \\frac1x.\n",
    "$$\n",
    "Hence\n",
    "$$\n",
    "\\frac{d}{dx}\\ln x = \\frac1x.\n",
    "$$"
   ]
  },
  {
   "cell_type": "code",
   "execution_count": 4,
   "id": "75487a7f",
   "metadata": {},
   "outputs": [
    {
     "data": {
      "text/latex": [
       "$\\displaystyle \\frac{1}{x}$"
      ],
      "text/plain": [
       "1/x"
      ]
     },
     "execution_count": 4,
     "metadata": {},
     "output_type": "execute_result"
    }
   ],
   "source": [
    "f = sp.log(x)\n",
    "sp.diff(f, x)\n",
    "# → 1/x\n"
   ]
  },
  {
   "cell_type": "markdown",
   "id": "f9d3148d",
   "metadata": {},
   "source": [
    "2. In the same vein, prove the product, sum, and quotient rule from first principles.\n",
    "##### Product Rule\n",
    "$$\n",
    "\\frac{d}{dx} [f(x)g(x)] = f(x) \\frac{d}{dx} g(x) + g(x) \\frac{d}{dx} f(x) \\quad \\text{Product rule}\n",
    "$$\n",
    "**Prove:**\n",
    "$$\n",
    "\\begin{aligned}\n",
    "\\frac{d}{dx}\\bigl[f(x)g(x)\\bigr]\n",
    "&=\\lim_{h\\to0}\\frac{f(x+h)g(x+h)-f(x)g(x)}{h}\\\\\n",
    "&=\\lim_{h\\to0}\\frac{f(x+h)g(x+h)-f(x)g(x+h)+f(x)g(x+h)-f(x)g(x)}{h}\\\\\n",
    "&=\\lim_{h\\to0}\\frac{\\bigl[f(x+h)-f(x)\\bigr]\\,g(x+h)}{h}\n",
    "  +\\lim_{h\\to0}\\frac{f(x)\\,\\bigl[g(x+h)-g(x)\\bigr]}{h}\\\\\n",
    "&=\\Bigl(\\lim_{h\\to0}\\frac{f(x+h)-f(x)}{h}\\Bigr)\\,g(x)\n",
    "  +f(x)\\,\\Bigl(\\lim_{h\\to0}\\frac{g(x+h)-g(x)}{h}\\Bigr)\\\\\n",
    "&=f'(x)\\,g(x)+f(x)\\,g'(x).\n",
    "\\end{aligned}\n",
    "$$\n"
   ]
  },
  {
   "cell_type": "code",
   "execution_count": 5,
   "id": "32b40b2c",
   "metadata": {},
   "outputs": [
    {
     "data": {
      "text/latex": [
       "$\\displaystyle x^{2} \\cos{\\left(x \\right)} + 2 x \\sin{\\left(x \\right)}$"
      ],
      "text/plain": [
       "x**2*cos(x) + 2*x*sin(x)"
      ]
     },
     "execution_count": 5,
     "metadata": {},
     "output_type": "execute_result"
    }
   ],
   "source": [
    "h = x**2 * sp.sin(x)\n",
    "sp.diff(h, x)\n",
    "# → x**2*cos(x) + 2*x*sin(x)\n"
   ]
  },
  {
   "cell_type": "markdown",
   "id": "daee288e",
   "metadata": {},
   "source": [
    "##### Sum Rule\n",
    "$$\n",
    "\\frac{d}{dx} [f(x) + g(x)] = \\frac{d}{dx} f(x) + \\frac{d}{dx} g(x) \\quad \\text{Sum rule}\n",
    "$$\n",
    "**Prove:**\n",
    "For any two functions $f,g$:\n",
    "$$\n",
    "\\frac{d}{dx}\\bigl[f(x)+g(x)\\bigr]\n",
    "=\\lim_{h\\to0}\\frac{[f(x+h)+g(x+h)]-[f(x)+g(x)]}{h}\n",
    "=\\lim_{h\\to0}\\frac{f(x+h)-f(x)}{h}\n",
    "  +\\lim_{h\\to0}\\frac{g(x+h)-g(x)}{h}\n",
    "=f'(x)+g'(x).\n",
    "$$"
   ]
  },
  {
   "cell_type": "code",
   "execution_count": 6,
   "id": "686e9600",
   "metadata": {},
   "outputs": [
    {
     "data": {
      "text/latex": [
       "$\\displaystyle 3 x^{2} + e^{x}$"
      ],
      "text/plain": [
       "3*x**2 + exp(x)"
      ]
     },
     "execution_count": 6,
     "metadata": {},
     "output_type": "execute_result"
    }
   ],
   "source": [
    "f = x**3 + sp.exp(x)\n",
    "sp.diff(f, x)\n",
    "# → 3*x**2 + exp(x)\n"
   ]
  },
  {
   "cell_type": "markdown",
   "id": "db2d3d0f",
   "metadata": {},
   "source": [
    "##### Quotient Rule\n",
    "$$\n",
    "\\frac{d}{dx} \\left( \\frac{f(x)}{g(x)} \\right) = \\frac{g(x) \\frac{d}{dx} f(x) - f(x) \\frac{d}{dx} g(x)}{g^2(x)} \\quad \\text{Quotient rule}\n",
    "\\tag{2.4.4}\n",
    "$$\n",
    "**Prove:**\n",
    "Assume $g(x)\\neq0$.  Write\n",
    "$$\n",
    "\\frac{f(x)}{g(x)} = f(x)\\,\\bigl[g(x)\\bigr]^{-1}.\n",
    "$$\n",
    "Then by the product rule and the chain rule (derivative of $u^{-1}$ is $-u^{-2}u'$):\n",
    "$$\n",
    "\\frac{d}{dx}\\frac{f}{g}\n",
    "=\\frac{d}{dx}\\bigl(f\\cdot g^{-1}\\bigr)\n",
    "=f'\\,g^{-1}+f\\;\\bigl(-g^{-2}g'\\bigr)\n",
    "=\\frac{f'}{g}-\\frac{f\\,g'}{g^2}\n",
    "=\\frac{g\\,f' - f\\,g'}{g^2}.\n",
    "$$"
   ]
  },
  {
   "cell_type": "code",
   "execution_count": 7,
   "id": "fc96853d",
   "metadata": {},
   "outputs": [
    {
     "data": {
      "text/latex": [
       "$\\displaystyle - \\frac{x^{2}}{\\left(x + 1\\right)^{2}} + \\frac{2 x}{x + 1}$"
      ],
      "text/plain": [
       "-x**2/(x + 1)**2 + 2*x/(x + 1)"
      ]
     },
     "execution_count": 7,
     "metadata": {},
     "output_type": "execute_result"
    }
   ],
   "source": [
    "q = x**2/(1+x)\n",
    "sp.diff(q, x)\n",
    "# → x*(x + 2)/(x + 1)**2\n"
   ]
  },
  {
   "cell_type": "markdown",
   "id": "066c7af9",
   "metadata": {},
   "source": [
    "3. Prove that the constant multiple rule follows as a special case of the product rule.\n",
    "\n",
    "**Statement.** Show that for any constant $C$ and differentiable function $g(x)$,\n",
    "$$\n",
    "\\frac{d}{dx}\\bigl[C\\,g(x)\\bigr] \\;=\\; C\\,g'(x).\n",
    "$$\n",
    "\n",
    "**Proof.**  \n",
    "Treat $C$ as the constant function $f(x)=C$, so $f'(x)=0$.  By the product rule,\n",
    "$$\n",
    "\\frac{d}{dx}\\bigl[f(x)\\,g(x)\\bigr]\n",
    "= f'(x)\\,g(x) + f(x)\\,g'(x)\n",
    "= 0\\cdot g(x) + C\\cdot g'(x)\n",
    "= C\\,g'(x).\n",
    "$$\n",
    "Hence the constant multiple rule follows directly."
   ]
  },
  {
   "cell_type": "code",
   "execution_count": 8,
   "id": "097e5244",
   "metadata": {},
   "outputs": [
    {
     "data": {
      "text/latex": [
       "$\\displaystyle C \\cos{\\left(x \\right)}$"
      ],
      "text/plain": [
       "C*cos(x)"
      ]
     },
     "execution_count": 8,
     "metadata": {},
     "output_type": "execute_result"
    }
   ],
   "source": [
    "C, x = sp.symbols('C x')\n",
    "g = sp.sin(x)\n",
    "sp.diff(C*g, x)\n",
    "# → C*cos(x)\n"
   ]
  }
 ],
 "metadata": {
  "kernelspec": {
   "display_name": "Python 3",
   "language": "python",
   "name": "python3"
  },
  "language_info": {
   "codemirror_mode": {
    "name": "ipython",
    "version": 3
   },
   "file_extension": ".py",
   "mimetype": "text/x-python",
   "name": "python",
   "nbconvert_exporter": "python",
   "pygments_lexer": "ipython3",
   "version": "3.12.0"
  }
 },
 "nbformat": 4,
 "nbformat_minor": 5
}
